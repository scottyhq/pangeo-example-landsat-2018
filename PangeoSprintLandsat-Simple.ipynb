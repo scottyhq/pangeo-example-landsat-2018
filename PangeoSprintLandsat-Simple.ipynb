{
 "cells": [
  {
   "cell_type": "markdown",
   "metadata": {},
   "source": [
    "# Landsat on AWS w/ Dask"
   ]
  },
  {
   "cell_type": "code",
   "execution_count": 1,
   "metadata": {},
   "outputs": [],
   "source": [
    "import os\n",
    "import glob\n",
    "\n",
    "import satsearch.main as main\n",
    "import rasterio\n",
    "import geopandas as gpd\n",
    "import pandas as pd\n",
    "import dask\n",
    "import xarray as xr\n",
    "import numpy as np\n",
    "import matplotlib.pyplot as plt\n",
    "\n",
    "from dask_kubernetes import KubeCluster\n",
    "from dask.distributed import Client\n",
    "from dask.distributed import wait, progress\n",
    "\n",
    "%matplotlib inline"
   ]
  },
  {
   "cell_type": "code",
   "execution_count": 2,
   "metadata": {},
   "outputs": [
    {
     "name": "stdout",
     "output_type": "stream",
     "text": [
      "Xarray version:  0.10.8\n",
      "Dask version:  0.18.2\n",
      "Rasterio version:  1.0rc5\n",
      "Geopandas version:  0.4.0\n"
     ]
    }
   ],
   "source": [
    "# Print versions\n",
    "print('Xarray version: ', xr.__version__)\n",
    "print('Dask version: ', dask.__version__)\n",
    "print('Rasterio version: ', rasterio.__version__)\n",
    "print('Geopandas version: ', gpd.__version__)"
   ]
  },
  {
   "cell_type": "code",
   "execution_count": 3,
   "metadata": {},
   "outputs": [],
   "source": [
    "# Set environment variables for cloud-optimized-geotiff efficiency\n",
    "os.environ['GDAL_DISABLE_READDIR_ON_OPEN']='YES'\n",
    "os.environ['CURL_CA_BUNDLE']='/etc/ssl/certs/ca-certificates.crt'\n",
    "os.environ['CPL_VSIL_CURL_ALLOWED_EXTENSIONS']='TIF'"
   ]
  },
  {
   "cell_type": "code",
   "execution_count": 4,
   "metadata": {},
   "outputs": [
    {
     "name": "stdout",
     "output_type": "stream",
     "text": [
      "23 scenes found\n",
      "Scenes (23):\n",
      "        date              scene_id      \n",
      "     2017-05-02     LC80470272017122LGN00\n",
      "     2017-05-18     LC80470272017138LGN00\n",
      "     2017-06-03     LC80470272017154LGN00\n",
      "     2017-06-19     LC80470272017170LGN00\n",
      "     2017-07-05     LC80470272017186LGN00\n",
      "     2017-07-21     LC80470272017202LGN00\n",
      "     2017-08-06     LC80470272017218LGN00\n",
      "     2017-08-22     LC80470272017234LGN00\n",
      "     2017-09-07     LC80470272017250LGN00\n",
      "     2017-09-23     LC80470272017266LGN00\n",
      "     2017-10-09     LC80470272017282LGN00\n",
      "     2017-10-25     LC80470272017298LGN00\n",
      "     2017-11-10     LC80470272017314LGN00\n",
      "     2017-11-26     LC80470272017330LGN00\n",
      "     2017-12-12     LC80470272017346LGN00\n",
      "     2017-12-28     LC80470272017362LGN00\n",
      "     2018-01-13     LC80470272018013LGN00\n",
      "     2018-01-29     LC80470272018029LGN00\n",
      "     2018-02-14     LC80470272018045LGN00\n",
      "     2018-03-02     LC80470272018061LGN00\n",
      "     2018-03-18     LC80470272018077LGN00\n",
      "     2018-04-03     LC80470272018093LGN01\n",
      "     2018-04-19     LC80470272018109LGN00\n",
      "\n"
     ]
    }
   ],
   "source": [
    "# Scenes from particular row, col are on same UTM grid\n",
    "# Programmatic:\n",
    "search_params = dict(date_from='2017-04-30',\n",
    "                     date_to = '2018-04-30',\n",
    "                     satellite_name = 'landsat-8',\n",
    "                     row=27,\n",
    "                     path=47,\n",
    "                     contains='-122.335167,47.608013',\n",
    "                     )\n",
    "scenes = main.main(**search_params)\n",
    "scenes.print_scenes()\n",
    "scenes.save('last-year.json')"
   ]
  },
  {
   "cell_type": "code",
   "execution_count": 5,
   "metadata": {},
   "outputs": [],
   "source": [
    "gf = gpd.read_file('last-year.json')"
   ]
  },
  {
   "cell_type": "code",
   "execution_count": 6,
   "metadata": {},
   "outputs": [
    {
     "data": {
      "text/plain": [
       "Index(['scene_id', 'product_id', 'satellite_name', 'cloud_coverage', 'date',\n",
       "       'thumbnail', 'download_links', 'aws_thumbnail', 'aws_index',\n",
       "       'google_index', 'browseAvailable', 'browseURL', 'sceneID',\n",
       "       'LANDSAT_PRODUCT_ID', 'sensor', 'acquisitionDate', 'dateUpdated',\n",
       "       'path', 'row', 'upperLeftCornerLatitude', 'upperLeftCornerLongitude',\n",
       "       'upperRightCornerLatitude', 'upperRightCornerLongitude',\n",
       "       'lowerLeftCornerLatitude', 'lowerLeftCornerLongitude',\n",
       "       'lowerRightCornerLatitude', 'lowerRightCornerLongitude',\n",
       "       'sceneCenterLatitude', 'sceneCenterLongitude', 'cloudCover',\n",
       "       'dayOrNight', 'sunElevation', 'sunAzimuth', 'receivingStation',\n",
       "       'sceneStartTime', 'sceneStopTime', 'imageQuality1', 'DATA_TYPE_L1',\n",
       "       'cartURL', 'ROLL_ANGLE', 'GEOMETRIC_RMSE_MODEL',\n",
       "       'GEOMETRIC_RMSE_MODEL_X', 'GEOMETRIC_RMSE_MODEL_Y',\n",
       "       'FULL_PARTIAL_SCENE', 'NADIR_OFFNADIR', 'PROCESSING_SOFTWARE_VERSION',\n",
       "       'CPF_NAME', 'RLUT_FILE_NAME', 'BPF_NAME_OLI', 'BPF_NAME_TIRS',\n",
       "       'GROUND_CONTROL_POINTS_MODEL', 'GROUND_CONTROL_POINTS_VERSION',\n",
       "       'DATE_L1_GENERATED', 'TIRS_SSM_MODEL', 'COLLECTION_NUMBER',\n",
       "       'COLLECTION_CATEGORY', 'CLOUD_COVER_LAND', 'UTM_ZONE',\n",
       "       'MAP_PROJECTION_L1', 'DATUM', 'GRID_CELL_SIZE_REFLECTIVE',\n",
       "       'GRID_CELL_SIZE_PANCHROMATIC', 'GRID_CELL_SIZE_THERMAL', 'ORIENTATION',\n",
       "       'PANCHROMATIC_LINES', 'PANCHROMATIC_SAMPLES', 'REFLECTIVE_LINES',\n",
       "       'REFLECTIVE_SAMPLES', 'RESAMPLING_OPTION', 'THERMAL_LINES',\n",
       "       'THERMAL_SAMPLES', 'cloudCoverFull', 'geometry'],\n",
       "      dtype='object')"
      ]
     },
     "execution_count": 6,
     "metadata": {},
     "output_type": "execute_result"
    }
   ],
   "source": [
    "gf.keys()"
   ]
  },
  {
   "cell_type": "markdown",
   "metadata": {},
   "source": [
    "# Stack of single-band files"
   ]
  },
  {
   "cell_type": "code",
   "execution_count": 7,
   "metadata": {},
   "outputs": [],
   "source": [
    "links = gf.download_links.apply(lambda x: x['aws_s3'][1]).tolist()"
   ]
  },
  {
   "cell_type": "code",
   "execution_count": 8,
   "metadata": {},
   "outputs": [
    {
     "data": {
      "text/plain": [
       "['https://landsat-pds.s3.amazonaws.com/c1/L8/047/027/LC08_L1TP_047027_20170502_20170515_01_T1/LC08_L1TP_047027_20170502_20170515_01_T1_B1.TIF',\n",
       " 'https://landsat-pds.s3.amazonaws.com/c1/L8/047/027/LC08_L1TP_047027_20170518_20170525_01_T1/LC08_L1TP_047027_20170518_20170525_01_T1_B1.TIF',\n",
       " 'https://landsat-pds.s3.amazonaws.com/c1/L8/047/027/LC08_L1TP_047027_20170603_20170615_01_T1/LC08_L1TP_047027_20170603_20170615_01_T1_B1.TIF',\n",
       " 'https://landsat-pds.s3.amazonaws.com/c1/L8/047/027/LC08_L1TP_047027_20170619_20170630_01_T1/LC08_L1TP_047027_20170619_20170630_01_T1_B1.TIF',\n",
       " 'https://landsat-pds.s3.amazonaws.com/c1/L8/047/027/LC08_L1TP_047027_20170705_20170716_01_T1/LC08_L1TP_047027_20170705_20170716_01_T1_B1.TIF',\n",
       " 'https://landsat-pds.s3.amazonaws.com/c1/L8/047/027/LC08_L1TP_047027_20170721_20170728_01_T1/LC08_L1TP_047027_20170721_20170728_01_T1_B1.TIF',\n",
       " 'https://landsat-pds.s3.amazonaws.com/c1/L8/047/027/LC08_L1TP_047027_20170806_20170813_01_T1/LC08_L1TP_047027_20170806_20170813_01_T1_B1.TIF',\n",
       " 'https://landsat-pds.s3.amazonaws.com/c1/L8/047/027/LC08_L1TP_047027_20170822_20170912_01_T1/LC08_L1TP_047027_20170822_20170912_01_T1_B1.TIF',\n",
       " 'https://landsat-pds.s3.amazonaws.com/c1/L8/047/027/LC08_L1TP_047027_20170907_20170926_01_T1/LC08_L1TP_047027_20170907_20170926_01_T1_B1.TIF',\n",
       " 'https://landsat-pds.s3.amazonaws.com/c1/L8/047/027/LC08_L1TP_047027_20170923_20171013_01_T1/LC08_L1TP_047027_20170923_20171013_01_T1_B1.TIF',\n",
       " 'https://landsat-pds.s3.amazonaws.com/c1/L8/047/027/LC08_L1TP_047027_20171009_20171024_01_T1/LC08_L1TP_047027_20171009_20171024_01_T1_B1.TIF',\n",
       " 'https://landsat-pds.s3.amazonaws.com/c1/L8/047/027/LC08_L1TP_047027_20171025_20171107_01_T1/LC08_L1TP_047027_20171025_20171107_01_T1_B1.TIF',\n",
       " 'https://landsat-pds.s3.amazonaws.com/c1/L8/047/027/LC08_L1TP_047027_20171110_20171121_01_T1/LC08_L1TP_047027_20171110_20171121_01_T1_B1.TIF',\n",
       " 'https://landsat-pds.s3.amazonaws.com/c1/L8/047/027/LC08_L1GT_047027_20171126_20171206_01_T2/LC08_L1GT_047027_20171126_20171206_01_T2_B1.TIF',\n",
       " 'https://landsat-pds.s3.amazonaws.com/c1/L8/047/027/LC08_L1TP_047027_20171212_20171223_01_T1/LC08_L1TP_047027_20171212_20171223_01_T1_B1.TIF',\n",
       " 'https://landsat-pds.s3.amazonaws.com/c1/L8/047/027/LC08_L1GT_047027_20171228_20180103_01_T2/LC08_L1GT_047027_20171228_20180103_01_T2_B1.TIF',\n",
       " 'https://landsat-pds.s3.amazonaws.com/c1/L8/047/027/LC08_L1TP_047027_20180113_20180119_01_T1/LC08_L1TP_047027_20180113_20180119_01_T1_B1.TIF',\n",
       " 'https://landsat-pds.s3.amazonaws.com/c1/L8/047/027/LC08_L1GT_047027_20180129_20180207_01_T2/LC08_L1GT_047027_20180129_20180207_01_T2_B1.TIF',\n",
       " 'https://landsat-pds.s3.amazonaws.com/c1/L8/047/027/LC08_L1TP_047027_20180214_20180222_01_T1/LC08_L1TP_047027_20180214_20180222_01_T1_B1.TIF',\n",
       " 'https://landsat-pds.s3.amazonaws.com/c1/L8/047/027/LC08_L1TP_047027_20180302_20180303_01_RT/LC08_L1TP_047027_20180302_20180303_01_RT_B1.TIF',\n",
       " 'https://landsat-pds.s3.amazonaws.com/c1/L8/047/027/LC08_L1TP_047027_20180318_20180318_01_RT/LC08_L1TP_047027_20180318_20180318_01_RT_B1.TIF',\n",
       " 'https://landsat-pds.s3.amazonaws.com/c1/L8/047/027/LC08_L1TP_047027_20180403_20180404_01_RT/LC08_L1TP_047027_20180403_20180404_01_RT_B1.TIF',\n",
       " 'https://landsat-pds.s3.amazonaws.com/c1/L8/047/027/LC08_L1TP_047027_20180419_20180420_01_RT/LC08_L1TP_047027_20180419_20180420_01_RT_B1.TIF']"
      ]
     },
     "execution_count": 8,
     "metadata": {},
     "output_type": "execute_result"
    }
   ],
   "source": [
    "links"
   ]
  },
  {
   "cell_type": "code",
   "execution_count": 9,
   "metadata": {},
   "outputs": [
    {
     "name": "stdout",
     "output_type": "stream",
     "text": [
      "ERROR, skipping file https://landsat-pds.s3.amazonaws.com/c1/L8/047/027/LC08_L1GT_047027_20171126_20171206_01_T2/LC08_L1GT_047027_20171126_20171206_01_T2_B1.TIF\n",
      "ERROR, skipping file https://landsat-pds.s3.amazonaws.com/c1/L8/047/027/LC08_L1GT_047027_20171228_20180103_01_T2/LC08_L1GT_047027_20171228_20180103_01_T2_B1.TIF\n",
      "ERROR, skipping file https://landsat-pds.s3.amazonaws.com/c1/L8/047/027/LC08_L1GT_047027_20180129_20180207_01_T2/LC08_L1GT_047027_20180129_20180207_01_T2_B1.TIF\n"
     ]
    }
   ],
   "source": [
    "# Load many files into xarray dataset\n",
    "xchunk = 2048\n",
    "ychunk = 2048\n",
    "datasets = []\n",
    "for cog in links:\n",
    "    #print('loading:',cog)\n",
    "    try:\n",
    "        da = xr.open_rasterio(cog, chunks={'band': 1, 'x': xchunk, 'y': ychunk})\n",
    "        datasets.append(da)\n",
    "    except:\n",
    "        print('ERROR, skipping file', cog)"
   ]
  },
  {
   "cell_type": "code",
   "execution_count": 10,
   "metadata": {},
   "outputs": [],
   "source": [
    "DS = xr.concat(datasets, dim='band')"
   ]
  },
  {
   "cell_type": "code",
   "execution_count": 11,
   "metadata": {},
   "outputs": [
    {
     "data": {
      "text/plain": [
       "<xarray.DataArray (band: 20, y: 7971, x: 8021)>\n",
       "dask.array<shape=(20, 7971, 8021), dtype=float64, chunksize=(1, 2048, 2048)>\n",
       "Coordinates:\n",
       "  * x        (x) float64 3.522e+05 3.522e+05 3.523e+05 3.523e+05 3.523e+05 ...\n",
       "  * y        (y) float64 5.374e+06 5.374e+06 5.374e+06 5.374e+06 5.374e+06 ...\n",
       "  * band     (band) int64 1 1 1 1 1 1 1 1 1 1 1 1 1 1 1 1 1 1 1 1\n",
       "Attributes:\n",
       "    crs:         +init=epsg:32610\n",
       "    res:         (30.0, 30.0)\n",
       "    is_tiled:    1\n",
       "    nodatavals:  (nan,)"
      ]
     },
     "execution_count": 11,
     "metadata": {},
     "output_type": "execute_result"
    }
   ],
   "source": [
    "DS"
   ]
  },
  {
   "cell_type": "markdown",
   "metadata": {},
   "source": [
    "## Try Dask kubernetes"
   ]
  },
  {
   "cell_type": "code",
   "execution_count": 12,
   "metadata": {},
   "outputs": [
    {
     "data": {
      "application/vnd.jupyter.widget-view+json": {
       "model_id": "125dc2efb87c4e28968ea8b44ce28d48",
       "version_major": 2,
       "version_minor": 0
      },
      "text/plain": [
       "VBox(children=(HTML(value='<h2>KubeCluster</h2>'), HBox(children=(HTML(value='\\n<div>\\n  <style scoped>\\n    .…"
      ]
     },
     "metadata": {},
     "output_type": "display_data"
    }
   ],
   "source": [
    "#from dask_kubernetes import KubeCluster\n",
    "cluster = KubeCluster()\n",
    "cluster"
   ]
  },
  {
   "cell_type": "code",
   "execution_count": 13,
   "metadata": {},
   "outputs": [],
   "source": [
    "#from dask.distributed import Client\n",
    "client = Client(cluster)"
   ]
  },
  {
   "cell_type": "code",
   "execution_count": 14,
   "metadata": {},
   "outputs": [
    {
     "name": "stdout",
     "output_type": "stream",
     "text": [
      "CPU times: user 8.49 s, sys: 1.1 s, total: 9.59 s\n",
      "Wall time: 30.6 s\n"
     ]
    },
    {
     "data": {
      "text/plain": [
       "<xarray.DataArray (band: 20)>\n",
       "array([1.093575e+12, 9.222135e+11, 1.073897e+12, 9.768836e+11, 4.277195e+11,\n",
       "       8.106349e+11, 6.323515e+11, 4.271758e+11, 8.489992e+11, 4.370648e+11,\n",
       "       3.635534e+11, 6.804720e+11, 4.637455e+11, 4.246395e+11, 4.659848e+11,\n",
       "       5.745016e+11, 6.547054e+11, 6.170348e+11, 8.369345e+11, 5.171612e+11])\n",
       "Coordinates:\n",
       "  * band     (band) int64 1 1 1 1 1 1 1 1 1 1 1 1 1 1 1 1 1 1 1 1"
      ]
     },
     "execution_count": 14,
     "metadata": {},
     "output_type": "execute_result"
    }
   ],
   "source": [
    "%%time\n",
    "# Try the same test computation\n",
    "DS.sum(dim=['x', 'y']).compute()"
   ]
  },
  {
   "cell_type": "markdown",
   "metadata": {},
   "source": [
    "# Try again w/ 20 workers to see if computation time scales linearly\n",
    "Go up to dashboard and increase to 20 workers (may take several minutes to complete)"
   ]
  },
  {
   "cell_type": "code",
   "execution_count": 15,
   "metadata": {},
   "outputs": [],
   "source": [
    "#%%time\n",
    "# Try the same test computation\n",
    "#DS.sum(dim=['x', 'y']).compute()"
   ]
  },
  {
   "cell_type": "markdown",
   "metadata": {},
   "source": [
    "# Calculate NDVI"
   ]
  },
  {
   "cell_type": "code",
   "execution_count": 16,
   "metadata": {},
   "outputs": [
    {
     "data": {
      "text/html": [
       "<div>\n",
       "<style scoped>\n",
       "    .dataframe tbody tr th:only-of-type {\n",
       "        vertical-align: middle;\n",
       "    }\n",
       "\n",
       "    .dataframe tbody tr th {\n",
       "        vertical-align: top;\n",
       "    }\n",
       "\n",
       "    .dataframe thead th {\n",
       "        text-align: right;\n",
       "    }\n",
       "</style>\n",
       "<table border=\"1\" class=\"dataframe\">\n",
       "  <thead>\n",
       "    <tr style=\"text-align: right;\">\n",
       "      <th></th>\n",
       "      <th>url</th>\n",
       "      <th>datestr</th>\n",
       "      <th>datetime</th>\n",
       "    </tr>\n",
       "  </thead>\n",
       "  <tbody>\n",
       "    <tr>\n",
       "      <th>0</th>\n",
       "      <td>https://landsat-pds.s3.amazonaws.com/c1/L8/047...</td>\n",
       "      <td>20170515</td>\n",
       "      <td>2017-05-15</td>\n",
       "    </tr>\n",
       "    <tr>\n",
       "      <th>1</th>\n",
       "      <td>https://landsat-pds.s3.amazonaws.com/c1/L8/047...</td>\n",
       "      <td>20170525</td>\n",
       "      <td>2017-05-25</td>\n",
       "    </tr>\n",
       "    <tr>\n",
       "      <th>2</th>\n",
       "      <td>https://landsat-pds.s3.amazonaws.com/c1/L8/047...</td>\n",
       "      <td>20170615</td>\n",
       "      <td>2017-06-15</td>\n",
       "    </tr>\n",
       "    <tr>\n",
       "      <th>3</th>\n",
       "      <td>https://landsat-pds.s3.amazonaws.com/c1/L8/047...</td>\n",
       "      <td>20170630</td>\n",
       "      <td>2017-06-30</td>\n",
       "    </tr>\n",
       "    <tr>\n",
       "      <th>4</th>\n",
       "      <td>https://landsat-pds.s3.amazonaws.com/c1/L8/047...</td>\n",
       "      <td>20170716</td>\n",
       "      <td>2017-07-16</td>\n",
       "    </tr>\n",
       "  </tbody>\n",
       "</table>\n",
       "</div>"
      ],
      "text/plain": [
       "                                                 url   datestr   datetime\n",
       "0  https://landsat-pds.s3.amazonaws.com/c1/L8/047...  20170515 2017-05-15\n",
       "1  https://landsat-pds.s3.amazonaws.com/c1/L8/047...  20170525 2017-05-25\n",
       "2  https://landsat-pds.s3.amazonaws.com/c1/L8/047...  20170615 2017-06-15\n",
       "3  https://landsat-pds.s3.amazonaws.com/c1/L8/047...  20170630 2017-06-30\n",
       "4  https://landsat-pds.s3.amazonaws.com/c1/L8/047...  20170716 2017-07-16"
      ]
     },
     "execution_count": 16,
     "metadata": {},
     "output_type": "execute_result"
    }
   ],
   "source": [
    "# Use time index instead of band integer index:\n",
    "df = pd.DataFrame(dict(url=links))\n",
    "df['datestr'] = df.url.apply(lambda x: x.split('_')[4])\n",
    "df['datetime'] = pd.to_datetime(df.datestr)\n",
    "df = df.sort_values('datetime').reset_index(drop=True)\n",
    "df.head()"
   ]
  },
  {
   "cell_type": "code",
   "execution_count": 17,
   "metadata": {},
   "outputs": [
    {
     "name": "stdout",
     "output_type": "stream",
     "text": [
      "ERROR loading!, skipping file: https://landsat-pds.s3.amazonaws.com/c1/L8/047/027/LC08_L1GT_047027_20171126_20171206_01_T2/LC08_L1GT_047027_20171126_20171206_01_T2_B1.TIF\n",
      "ERROR loading!, skipping file: https://landsat-pds.s3.amazonaws.com/c1/L8/047/027/LC08_L1GT_047027_20171228_20180103_01_T2/LC08_L1GT_047027_20171228_20180103_01_T2_B1.TIF\n",
      "ERROR loading!, skipping file: https://landsat-pds.s3.amazonaws.com/c1/L8/047/027/LC08_L1GT_047027_20180129_20180207_01_T2/LC08_L1GT_047027_20180129_20180207_01_T2_B1.TIF\n"
     ]
    }
   ],
   "source": [
    "xchunk = 2048\n",
    "ychunk = 2048\n",
    "datasets = []\n",
    "dates = []\n",
    "for i,row in df.iterrows():\n",
    "    cog = row.url\n",
    "    date = row.datetime\n",
    "    #print('loading:',cog)\n",
    "    try:\n",
    "        da = xr.open_rasterio(cog, chunks={'band': 1, 'x': xchunk, 'y': ychunk})\n",
    "        ds = da.to_dataset(dim='band').rename({1:'Band1'})\n",
    "        datasets.append(ds)\n",
    "        dates.append(date)\n",
    "    except:\n",
    "        print('ERROR loading!, skipping file:', cog)"
   ]
  },
  {
   "cell_type": "code",
   "execution_count": 18,
   "metadata": {},
   "outputs": [
    {
     "data": {
      "text/html": [
       "<div>\n",
       "<style scoped>\n",
       "    .dataframe tbody tr th:only-of-type {\n",
       "        vertical-align: middle;\n",
       "    }\n",
       "\n",
       "    .dataframe tbody tr th {\n",
       "        vertical-align: top;\n",
       "    }\n",
       "\n",
       "    .dataframe thead th {\n",
       "        text-align: right;\n",
       "    }\n",
       "</style>\n",
       "<table border=\"1\" class=\"dataframe\">\n",
       "  <thead>\n",
       "    <tr style=\"text-align: right;\">\n",
       "      <th></th>\n",
       "      <th>aws_index</th>\n",
       "      <th>product_id</th>\n",
       "      <th>datestr</th>\n",
       "      <th>datetime</th>\n",
       "    </tr>\n",
       "  </thead>\n",
       "  <tbody>\n",
       "    <tr>\n",
       "      <th>0</th>\n",
       "      <td>https://landsat-pds.s3.amazonaws.com/c1/L8/047...</td>\n",
       "      <td>LC08_L1TP_047027_20170502_20170515_01_T1</td>\n",
       "      <td>20170515</td>\n",
       "      <td>2017-05-15</td>\n",
       "    </tr>\n",
       "    <tr>\n",
       "      <th>1</th>\n",
       "      <td>https://landsat-pds.s3.amazonaws.com/c1/L8/047...</td>\n",
       "      <td>LC08_L1TP_047027_20170518_20170525_01_T1</td>\n",
       "      <td>20170525</td>\n",
       "      <td>2017-05-25</td>\n",
       "    </tr>\n",
       "    <tr>\n",
       "      <th>2</th>\n",
       "      <td>https://landsat-pds.s3.amazonaws.com/c1/L8/047...</td>\n",
       "      <td>LC08_L1TP_047027_20170603_20170615_01_T1</td>\n",
       "      <td>20170615</td>\n",
       "      <td>2017-06-15</td>\n",
       "    </tr>\n",
       "    <tr>\n",
       "      <th>3</th>\n",
       "      <td>https://landsat-pds.s3.amazonaws.com/c1/L8/047...</td>\n",
       "      <td>LC08_L1TP_047027_20170619_20170630_01_T1</td>\n",
       "      <td>20170630</td>\n",
       "      <td>2017-06-30</td>\n",
       "    </tr>\n",
       "    <tr>\n",
       "      <th>4</th>\n",
       "      <td>https://landsat-pds.s3.amazonaws.com/c1/L8/047...</td>\n",
       "      <td>LC08_L1TP_047027_20170705_20170716_01_T1</td>\n",
       "      <td>20170716</td>\n",
       "      <td>2017-07-16</td>\n",
       "    </tr>\n",
       "  </tbody>\n",
       "</table>\n",
       "</div>"
      ],
      "text/plain": [
       "                                           aws_index  \\\n",
       "0  https://landsat-pds.s3.amazonaws.com/c1/L8/047...   \n",
       "1  https://landsat-pds.s3.amazonaws.com/c1/L8/047...   \n",
       "2  https://landsat-pds.s3.amazonaws.com/c1/L8/047...   \n",
       "3  https://landsat-pds.s3.amazonaws.com/c1/L8/047...   \n",
       "4  https://landsat-pds.s3.amazonaws.com/c1/L8/047...   \n",
       "\n",
       "                                 product_id   datestr   datetime  \n",
       "0  LC08_L1TP_047027_20170502_20170515_01_T1  20170515 2017-05-15  \n",
       "1  LC08_L1TP_047027_20170518_20170525_01_T1  20170525 2017-05-25  \n",
       "2  LC08_L1TP_047027_20170603_20170615_01_T1  20170615 2017-06-15  \n",
       "3  LC08_L1TP_047027_20170619_20170630_01_T1  20170630 2017-06-30  \n",
       "4  LC08_L1TP_047027_20170705_20170716_01_T1  20170716 2017-07-16  "
      ]
     },
     "execution_count": 18,
     "metadata": {},
     "output_type": "execute_result"
    }
   ],
   "source": [
    "df = gf.loc[:,['aws_index', 'product_id']]\n",
    "df['datestr'] = df.product_id.apply(lambda x: x.split('_')[4])\n",
    "df['datetime'] = pd.to_datetime(df.datestr)\n",
    "df = df.sort_values('datetime').reset_index(drop=True)\n",
    "df.head()"
   ]
  },
  {
   "cell_type": "code",
   "execution_count": 19,
   "metadata": {},
   "outputs": [],
   "source": [
    "def create_landsat_dataset(aws_index, \n",
    "                           bands=[4,5], \n",
    "                           chunks={'band': 1, 'x': xchunk, 'y': ychunk}):\n",
    "    '''Create a dataset for specific bands '''\n",
    "    \n",
    "    baseurl = aws_index.rstrip('/index.html')\n",
    "    product_id = baseurl.split('/')[-1]\n",
    "    \n",
    "    # Store list of datasets\n",
    "    datasets = []\n",
    "    for band in bands:\n",
    "        url = f'{baseurl}/{product_id}_B{band}.TIF'\n",
    "        #print(url)\n",
    "        da = xr.open_rasterio(url, chunks=chunks)\n",
    "        da = da.squeeze().drop(labels='band')\n",
    "        ds = da.to_dataset(name=f'band{band}')\n",
    "        datasets.append(ds)\n",
    "\n",
    "    DS = xr.merge(datasets)\n",
    "    \n",
    "    return DS\n",
    "\n"
   ]
  },
  {
   "cell_type": "code",
   "execution_count": 20,
   "metadata": {
    "scrolled": true
   },
   "outputs": [
    {
     "name": "stdout",
     "output_type": "stream",
     "text": [
      "ERROR loading!, skipping file: https://landsat-pds.s3.amazonaws.com/c1/L8/047/027/LC08_L1TP_047027_20180419_20180420_01_RT/LC08_L1TP_047027_20180419_20180420_01_RT_B1.TIF\n",
      "ERROR loading!, skipping file: https://landsat-pds.s3.amazonaws.com/c1/L8/047/027/LC08_L1TP_047027_20180419_20180420_01_RT/LC08_L1TP_047027_20180419_20180420_01_RT_B1.TIF\n",
      "ERROR loading!, skipping file: https://landsat-pds.s3.amazonaws.com/c1/L8/047/027/LC08_L1TP_047027_20180419_20180420_01_RT/LC08_L1TP_047027_20180419_20180420_01_RT_B1.TIF\n"
     ]
    }
   ],
   "source": [
    "datasets = []\n",
    "dates = []\n",
    "for i,row in df.iterrows():\n",
    "    date = row.datetime\n",
    "    try:\n",
    "        ds = create_landsat_dataset(row.aws_index)\n",
    "        datasets.append(ds)\n",
    "        dates.append(date)\n",
    "    except:\n",
    "        print('ERROR loading!, skipping file:', cog)"
   ]
  },
  {
   "cell_type": "code",
   "execution_count": 21,
   "metadata": {},
   "outputs": [
    {
     "name": "stdout",
     "output_type": "stream",
     "text": [
      "Dataset size (Gb):  20.459453216\n"
     ]
    },
    {
     "data": {
      "text/plain": [
       "<xarray.Dataset>\n",
       "Dimensions:  (time: 20, x: 8021, y: 7971)\n",
       "Coordinates:\n",
       "  * x        (x) float64 3.522e+05 3.522e+05 3.523e+05 3.523e+05 3.523e+05 ...\n",
       "  * y        (y) float64 5.374e+06 5.374e+06 5.374e+06 5.374e+06 5.374e+06 ...\n",
       "  * time     (time) datetime64[ns] 2017-05-15 2017-05-25 2017-06-15 ...\n",
       "Data variables:\n",
       "    band4    (time, y, x) float64 dask.array<shape=(20, 7971, 8021), chunksize=(1, 2048, 2048)>\n",
       "    band5    (time, y, x) float64 dask.array<shape=(20, 7971, 8021), chunksize=(1, 2048, 2048)>"
      ]
     },
     "execution_count": 21,
     "metadata": {},
     "output_type": "execute_result"
    }
   ],
   "source": [
    "DS = xr.concat(datasets, dim=pd.DatetimeIndex(dates, name='time'))\n",
    "print('Dataset size (Gb): ', DS.nbytes/1e9)\n",
    "DS"
   ]
  },
  {
   "cell_type": "code",
   "execution_count": 22,
   "metadata": {},
   "outputs": [
    {
     "name": "stdout",
     "output_type": "stream",
     "text": [
      "Dataset size (Gb):  10.22966256\n"
     ]
    },
    {
     "data": {
      "text/plain": [
       "<xarray.DataArray (time: 20, y: 7971, x: 8021)>\n",
       "dask.array<shape=(20, 7971, 8021), dtype=float64, chunksize=(1, 2048, 2048)>\n",
       "Coordinates:\n",
       "  * x        (x) float64 3.522e+05 3.522e+05 3.523e+05 3.523e+05 3.523e+05 ...\n",
       "  * y        (y) float64 5.374e+06 5.374e+06 5.374e+06 5.374e+06 5.374e+06 ...\n",
       "  * time     (time) datetime64[ns] 2017-05-15 2017-05-25 2017-06-15 ..."
      ]
     },
     "execution_count": 22,
     "metadata": {},
     "output_type": "execute_result"
    }
   ],
   "source": [
    "NDVI = (DS['band5'] - DS['band4']) / (DS['band5'] + DS['band4'])\n",
    "print('Dataset size (Gb): ', NDVI.nbytes/1e9)\n",
    "NDVI"
   ]
  },
  {
   "cell_type": "code",
   "execution_count": 23,
   "metadata": {},
   "outputs": [
    {
     "data": {
      "application/vnd.jupyter.widget-view+json": {
       "model_id": "38ce0042f012432eb90c7222755e7b29",
       "version_major": 2,
       "version_minor": 0
      },
      "text/plain": [
       "VBox()"
      ]
     },
     "metadata": {},
     "output_type": "display_data"
    }
   ],
   "source": [
    "#NDVI.compute() #runs on single pod local memory as numpy arrays\n",
    "ndvi = NDVI.mean(dim='time')\n",
    "ndvi = ndvi.persist() # keep entire dataset in memory\n",
    "progress(ndvi)"
   ]
  },
  {
   "cell_type": "code",
   "execution_count": 24,
   "metadata": {},
   "outputs": [
    {
     "data": {
      "text/plain": [
       "<xarray.DataArray (y: 7971, x: 8021)>\n",
       "dask.array<shape=(7971, 8021), dtype=float64, chunksize=(2048, 2048)>\n",
       "Coordinates:\n",
       "  * x        (x) float64 3.522e+05 3.522e+05 3.523e+05 3.523e+05 3.523e+05 ...\n",
       "  * y        (y) float64 5.374e+06 5.374e+06 5.374e+06 5.374e+06 5.374e+06 ..."
      ]
     },
     "execution_count": 24,
     "metadata": {},
     "output_type": "execute_result"
    }
   ],
   "source": [
    "ndvi"
   ]
  },
  {
   "cell_type": "code",
   "execution_count": 25,
   "metadata": {},
   "outputs": [
    {
     "data": {
      "text/plain": [
       "<matplotlib.image.AxesImage at 0x7f6378691d68>"
      ]
     },
     "execution_count": 25,
     "metadata": {},
     "output_type": "execute_result"
    },
    {
     "data": {
      "image/png": "[encoded data removed]",
      "text/plain": [
       "<Figure size 432x288 with 2 Axes>"
      ]
     },
     "metadata": {},
     "output_type": "display_data"
    },
    {
     "name": "stderr",
     "output_type": "stream",
     "text": [
      "distributed.utils - ERROR - list index out of range\n",
      "Traceback (most recent call last):\n",
      "  File \"/opt/conda/lib/python3.6/site-packages/distributed/utils.py\", line 644, in log_errors\n",
      "    yield\n",
      "  File \"/opt/conda/lib/python3.6/site-packages/distributed/bokeh/components.py\", line 386, in cb\n",
      "    data = profile.plot_data(self.states[ind], profile_interval)\n",
      "IndexError: list index out of range\n"
     ]
    }
   ],
   "source": [
    "# Plot result\n",
    "ndvi.plot.imshow()"
   ]
  },
  {
   "cell_type": "code",
   "execution_count": null,
   "metadata": {},
   "outputs": [],
   "source": []
  }
 ],
 "metadata": {
  "kernelspec": {
   "display_name": "Python 3",
   "language": "python",
   "name": "python3"
  },
  "language_info": {
   "codemirror_mode": {
    "name": "ipython",
    "version": 3
   },
   "file_extension": ".py",
   "mimetype": "text/x-python",
   "name": "python",
   "nbconvert_exporter": "python",
   "pygments_lexer": "ipython3",
   "version": "3.7.0"
  }
 },
 "nbformat": 4,
 "nbformat_minor": 2
}
